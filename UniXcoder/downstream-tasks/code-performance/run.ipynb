{
 "cells": [
  {
   "cell_type": "code",
   "execution_count": null,
   "id": "c965d51b",
   "metadata": {},
   "outputs": [
    {
     "name": "stdout",
     "output_type": "stream",
     "text": [
      "08/30/2025 22:20:23 - INFO - __main__ -   device: cuda, n_gpu: 1\n",
      "08/30/2025 22:20:25 - INFO - __main__ -   Training/evaluation parameters Namespace(train_data_file='dataset/train_data.jsonl', test_data_file='dataset/test_data.jsonl', output_dir='saved_models', model_name_or_path='microsoft/unixcoder-base', do_train=True, do_eval=True, do_test=False, train_batch_size=64, eval_batch_size=32, learning_rate=0.01, max_grad_norm=1.0, num_train_epochs=20, code_length=256, seed=42, n_gpu=1, device=device(type='cuda'))\n",
      "08/30/2025 22:20:29 - INFO - __main__ -   ** Example **\n",
      "08/30/2025 22:20:29 - INFO - __main__ -   idx: 0\n",
      "08/30/2025 22:20:29 - INFO - __main__ -   code_tokens: ['<s>', '<encoder-only>', '</s>', 'def', '_select', '_', 'next', '_', 'node', '_(', '_current', '_', 'node', '_,', '_destination', '_', 'node', '_,', '_un', 'visited', '_', 'nodes', '_,', '_distance', '_', 'matrix', '_)', '_:', '_if', '_not', '_un', 'visited', '_', 'nodes', '_:', '_return', '_None', '_best', '_', 'node', '_=', '_None', '_best', '_', 'score', '_=', '_float', '_(', \"_'\", 'inf', \"'\", '_)', '_#', '_Start', '_with', '_positive', '_infinity', '_for', '_minim', 'ization', '_for', '_node', '_in', '_un', 'visited', '_', 'nodes', '_:', '_direct', '_', 'distance', '_=', '_distance', '_', 'matrix', '_[', '_current', '_', 'node', '_]', '_[', '_node', '_]', '_cost', '_', 'to', '_', 'destination', '_=', '_distance', '_', 'matrix', '_[', '_node', '_]', '_[', '_destination', '_', 'node', '_]', '_#', '_Pro', 'portion', 'al', '_score', '_based', '_on', '_distance', '_and', '_cost', '_if', '_direct', '_', 'distance', '_+', '_cost', '_', 'to', '_', 'destination', '_>', '_0', '_:', '_#', '_Avoid', '_division', '_by', '_zero', '_score', '_=', '_(', '_direct', '_', 'distance', '_/', '_(', '_direct', '_', 'distance', '_+', '_cost', '_', 'to', '_', 'destination', '_)', '_)', '_*', '_(', '_1', '_+', '_direct', '_', 'distance', '_)', '_else', '_:', '_score', '_=', '_float', '_(', \"_'\", 'inf', \"'\", '_)', '_#', '_Select', 'ing', '_the', '_node', '_that', '_minim', 'izes', '_this', '_score', '_if', '_score', '_<', '_best', '_', 'score', '_:', '_best', '_', 'score', '_=', '_score', '_best', '_', 'node', '_=', '_node', '_return', '_best', '_', 'node', '</s>']\n",
      "08/30/2025 22:20:29 - INFO - __main__ -   code_ids: 0 6 2 729 4354 181 1313 181 1100 400 1434 181 1100 2019 5943 181 1100 2019 851 20403 181 4522 2019 6894 181 5241 743 545 462 800 851 20403 181 4522 545 483 1938 6280 181 1100 385 1938 6280 181 7461 385 1842 400 464 7479 125 743 830 5262 918 9971 31047 563 30938 2865 563 1320 488 851 20403 181 4522 545 4183 181 7647 385 6894 181 5241 626 1434 181 1100 2406 626 1320 2406 10528 181 589 181 8359 385 6894 181 5241 626 1320 2406 626 5943 181 1100 2406 830 2015 22787 392 8917 4832 854 6894 706 10528 462 4183 181 7647 513 10528 181 589 181 8359 711 461 545 830 21174 23610 1243 3958 8917 385 400 4183 181 7647 1017 400 4183 181 7647 513 10528 181 589 181 8359 743 743 426 400 524 513 4183 181 7647 743 669 545 8917 385 1842 400 464 7479 125 743 830 7906 419 448 1320 922 30938 5393 547 8917 462 8917 517 6280 181 7461 545 6280 181 7461 385 8917 6280 181 1100 385 1320 483 6280 181 1100 2 1 1 1 1 1 1 1 1 1 1 1 1 1 1 1 1 1 1 1 1 1 1 1 1 1 1 1 1 1 1 1 1 1 1 1 1 1 1 1 1 1 1 1 1 1 1 1 1 1 1 1 1 1 1 1 1 1 1 1\n",
      "08/30/2025 22:20:29 - INFO - __main__ -   code_perf: 6.611912654495894\n",
      "08/30/2025 22:20:29 - INFO - __main__ -   ** Example **\n",
      "08/30/2025 22:20:29 - INFO - __main__ -   idx: 1\n",
      "08/30/2025 22:20:29 - INFO - __main__ -   code_tokens: ['<s>', '<encoder-only>', '</s>', 'def', '_select', '_', 'next', '_', 'node', '_(', '_current', '_', 'node', '_,', '_destination', '_', 'node', '_,', '_un', 'visited', '_', 'nodes', '_,', '_distance', '_', 'matrix', '_)', '_:', '_if', '_not', '_un', 'visited', '_', 'nodes', '_:', '_return', '_None', '_#', '_If', '_no', '_un', 'visited', '_nodes', '_are', '_available', '_from', '_scipy', '_.', '_sparse', '_.', '_c', 'sg', 'raph', '_import', '_minimum', '_', 'sp', 'anning', '_', 'tree', '_import', '_numpy', '_as', '_np', '_#', '_Create', '_a', '_sub', '-', 'matrix', '_for', '_un', 'visited', '_nodes', '_sub', '_', 'matrix', '_=', '_np', '_.', '_array', '_(', '_[', '_[', '_distance', '_', 'matrix', '_[', '_i', '_]', '_[', '_j', '_]', '_for', '_j', '_in', '_un', 'visited', '_', 'nodes', '_]', '_for', '_i', '_in', '_un', 'visited', '_', 'nodes', '_]', '_)', '_#', '_Calculate', '_the', '_Minimum', '_Sp', 'anning', '_Tree', '_for', '_un', 'visited', '_nodes', '_m', 'st', '_=', '_minimum', '_', 'sp', 'anning', '_', 'tree', '_(', '_sub', '_', 'matrix', '_)', '_.', '_to', 'array', '_(', '_)', '_best', '_', 'score', '_=', '_float', '_(', \"_'\", 'inf', \"'\", '_)', '_next', '_', 'node', '_=', '_None', '_for', '_idx', '_,', '_node', '_in', '_enumerate', '_(', '_un', 'visited', '_', 'nodes', '_)', '_:', '_distance', '_', 'to', '_', 'next', '_=', '_distance', '_', 'matrix', '_[', '_current', '_', 'node', '_]', '_[', '_node', '_]', '_distance', '_', 'to', '_', 'destination', '_=', '_distance', '_', 'matrix', '_[', '_node', '_]', '_[', '_destination', '_', 'node', '_]', '_if', '_destination', '_', 'node', '_in', '_un', 'visited', '_', 'nodes', '_else', '_0', '_#', '_Calculate', '_the', '_connectivity', '_score', '_based', '_on', '_M', 'ST', '_connectivity', '_', 'score', '_=', '_np', '_.', '_sum', '_(', '_m', 'st', '_[', '_idx', '_]', '_)', '_#', '_Total', '_edge', '_weight', '_to', '_connect', '_to', '_other', '_nodes', '_#', '_Com', 'bined', '_score', '_em', 'ph', 'as', 'izing', '_prox', 'imity', '</s>']\n",
      "08/30/2025 22:20:29 - INFO - __main__ -   code_ids: 0 6 2 729 4354 181 1313 181 1100 400 1434 181 1100 2019 5943 181 1100 2019 851 20403 181 4522 2019 6894 181 5241 743 545 462 800 851 20403 181 4522 545 483 1938 830 1359 1375 851 20403 4435 1147 3777 1029 27266 746 14969 746 404 1025 1765 3363 8648 181 1078 11822 181 3075 3363 8520 880 2694 830 2305 434 1516 131 5241 563 851 20403 4435 1516 181 5241 385 2694 746 866 400 626 626 6894 181 5241 626 548 2406 626 913 2406 563 913 488 851 20403 181 4522 2406 563 548 488 851 20403 181 4522 2406 743 830 9472 448 29252 10018 11822 9607 563 851 20403 4435 446 383 385 8648 181 1078 11822 181 3075 400 1516 181 5241 743 746 508 1170 400 743 6280 181 7461 385 1842 400 464 7479 125 743 1789 181 1100 385 1938 563 3968 2019 1320 488 10830 400 851 20403 181 4522 743 545 6894 181 589 181 1313 385 6894 181 5241 626 1434 181 1100 2406 626 1320 2406 6894 181 589 181 8359 385 6894 181 5241 626 1320 2406 626 5943 181 1100 2406 462 5943 181 1100 488 851 20403 181 4522 669 461 830 9472 448 33782 8917 4832 854 635 717 33782 181 7461 385 2694 746 3863 400 446 383 626 3968 2406 743 830 16682 5676 8423 508 4246 508 1946 4435 830 2086 9640 8917 2637 877 522 9733 21894 33560 2\n",
      "08/30/2025 22:20:29 - INFO - __main__ -   code_perf: 8.087714784677612\n",
      "08/30/2025 22:20:29 - INFO - __main__ -   ** Example **\n",
      "08/30/2025 22:20:29 - INFO - __main__ -   idx: 2\n",
      "08/30/2025 22:20:29 - INFO - __main__ -   code_tokens: ['<s>', '<encoder-only>', '</s>', 'def', '_select', '_', 'next', '_', 'node', '_(', '_current', '_', 'node', '_,', '_destination', '_', 'node', '_,', '_un', 'visited', '_', 'nodes', '_,', '_distance', '_', 'matrix', '_)', '_:', '_max', '_', 'score', '_=', '_float', '_(', \"_'-\", 'inf', \"'\", '_)', '_next', '_', 'node', '_=', '_None', '_if', '_un', 'visited', '_', 'nodes', '_:', '_distance', '_', 'weight', '_=', '_0', '.', '4', '_#', '_Weight', '_for', '_direct', '_distance', '_connectivity', '_', 'weight', '_=', '_0', '.', '4', '_#', '_Weight', '_for', '_the', '_connectivity', '_score', '_risk', '_', 'weight', '_=', '_0', '.', '2', '_#', '_Weight', '_for', '_risk', '_as', 'sessment', '_of', '_distances', '_#', '_Calculate', '_connectivity', '_score', '_based', '_on', '_the', '_number', '_of', '_connections', '_to', '_un', 'visited', '_nodes', '_for', '_node', '_in', '_un', 'visited', '_', 'nodes', '_:', '_connectivity', '_', 'score', '_=', '_sum', '_(', '_1', '_for', '_other', '_in', '_un', 'visited', '_', 'nodes', '_if', '_other', '_!=', '_node', '_and', '_distance', '_', 'matrix', '_[', '_node', '_]', '_[', '_other', '_]', '_<', '_float', '_(', \"_'\", 'inf', \"'\", '_)', '_)', '_#', '_R', 'isk', '_as', 'sessment', '_based', '_on', '_distance', '_fl', 'uct', 'uation', '_(', 'i', '.', 'e', '.,', '_how', '_variable', '_the', '_distances', '_are', '_to', '_un', 'visited', '_nodes', ')', '_distances', '_=', '_[', '_distance', '_', 'matrix', '_[', '_node', '_]', '_[', '_un', 'visited', '_]', '_for', '_un', 'visited', '_in', '_un', 'visited', '_', 'nodes', '_]', '_distance', '_', 'variation', '_=', '_max', '_(', '_distances', '_)', '_-', '_min', '_(', '_distances', '_)', '_if', '_distances', '_else', '_0', '_#', '_Direct', '_distance', '_to', '_the', '_current', '_node', '_direct', '_', 'distance', '_=', '_distance', '_', 'matrix', '_[', '_current', '_', 'node', '_]', '_[', '_node', '_]', '_#', '_S', 'cor', 'ing', '_function', '_combining', '_distances', ',', '_connectivity', ',', '_and', '_risk', '_score', '_=', '_-', '_(', '_distance', '_', 'weight', '_*', '_direct', '</s>']\n",
      "08/30/2025 22:20:29 - INFO - __main__ -   code_ids: 0 6 2 729 4354 181 1313 181 1100 400 1434 181 1100 2019 5943 181 1100 2019 851 20403 181 4522 2019 6894 181 5241 743 545 1621 181 7461 385 1842 400 4220 7479 125 743 1789 181 1100 385 1938 462 851 20403 181 4522 545 6894 181 6007 385 461 132 138 830 36331 563 4183 6894 33782 181 6007 385 461 132 138 830 36331 563 448 33782 8917 30202 181 6007 385 461 132 136 830 36331 563 30202 880 13415 595 28556 830 9472 33782 8917 4832 854 448 1635 595 11998 508 851 20403 4435 563 1320 488 851 20403 181 4522 545 33782 181 7461 385 3863 400 524 563 1946 488 851 20403 181 4522 462 1946 620 1320 706 6894 181 5241 626 1320 2406 626 1946 2406 517 1842 400 464 7479 125 743 743 830 821 11365 880 13415 4832 854 6894 8481 597 4714 400 191 132 187 5545 5064 2948 448 28556 1147 508 851 20403 4435 127 28556 385 626 6894 181 5241 626 1320 2406 626 851 20403 2406 563 851 20403 488 851 20403 181 4522 2406 6894 181 33640 385 1621 400 28556 743 581 2069 400 28556 743 462 28556 669 461 830 14263 6894 508 448 1434 1320 4183 181 7647 385 6894 181 5241 626 1434 181 1100 2406 626 1320 2406 830 506 2686 419 603 44817 28556 130 33782 130 706 30202 8917 385 581 400 6894 181 6007 426 4183 2\n",
      "08/30/2025 22:20:29 - INFO - __main__ -   code_perf: 7.669134405884694\n",
      "08/30/2025 22:20:29 - INFO - __main__ -   ***** Running training *****\n",
      "08/30/2025 22:20:29 - INFO - __main__ -     Num examples = 5000\n",
      "08/30/2025 22:20:29 - INFO - __main__ -     Num Epochs = 20\n",
      "08/30/2025 22:20:29 - INFO - __main__ -     Instantaneous batch size per GPU = 64\n",
      "08/30/2025 22:20:29 - INFO - __main__ -     Total train batch size  = 64\n",
      "08/30/2025 22:20:29 - INFO - __main__ -     Total optimization steps = 1580\n",
      "Traceback (most recent call last):\n",
      "  File \"/workspace/CodeBERT/UniXcoder/downstream-tasks/code-performance/run.py\", line 228, in <module>\n",
      "    main()\n",
      "  File \"/workspace/CodeBERT/UniXcoder/downstream-tasks/code-performance/run.py\", line 222, in main\n",
      "    train(args, model, tokenizer)\n",
      "  File \"/workspace/CodeBERT/UniXcoder/downstream-tasks/code-performance/run.py\", line 121, in train\n",
      "    pred_perfs = model(code_inputs=code_inputs)\n",
      "  File \"/venv/vah/lib/python3.10/site-packages/torch/nn/modules/module.py\", line 1773, in _wrapped_call_impl\n",
      "    return self._call_impl(*args, **kwargs)\n",
      "  File \"/venv/vah/lib/python3.10/site-packages/torch/nn/modules/module.py\", line 1784, in _call_impl\n",
      "    return forward_call(*args, **kwargs)\n",
      "  File \"/workspace/CodeBERT/UniXcoder/downstream-tasks/code-performance/model.py\", line 21, in forward\n",
      "    outputs = self.encoder(code_inputs, attention_mask=code_inputs.ne(1))[0]\n",
      "  File \"/venv/vah/lib/python3.10/site-packages/torch/nn/modules/module.py\", line 1773, in _wrapped_call_impl\n",
      "    return self._call_impl(*args, **kwargs)\n",
      "  File \"/venv/vah/lib/python3.10/site-packages/torch/nn/modules/module.py\", line 1784, in _call_impl\n",
      "    return forward_call(*args, **kwargs)\n",
      "  File \"/venv/vah/lib/python3.10/site-packages/transformers/models/roberta/modeling_roberta.py\", line 868, in forward\n",
      "    encoder_outputs = self.encoder(\n",
      "  File \"/venv/vah/lib/python3.10/site-packages/torch/nn/modules/module.py\", line 1773, in _wrapped_call_impl\n",
      "    return self._call_impl(*args, **kwargs)\n",
      "  File \"/venv/vah/lib/python3.10/site-packages/torch/nn/modules/module.py\", line 1784, in _call_impl\n",
      "    return forward_call(*args, **kwargs)\n",
      "  File \"/venv/vah/lib/python3.10/site-packages/transformers/models/roberta/modeling_roberta.py\", line 609, in forward\n",
      "    layer_outputs = layer_module(\n",
      "  File \"/venv/vah/lib/python3.10/site-packages/transformers/modeling_layers.py\", line 93, in __call__\n",
      "    return super().__call__(*args, **kwargs)\n",
      "  File \"/venv/vah/lib/python3.10/site-packages/torch/nn/modules/module.py\", line 1773, in _wrapped_call_impl\n",
      "    return self._call_impl(*args, **kwargs)\n",
      "  File \"/venv/vah/lib/python3.10/site-packages/torch/nn/modules/module.py\", line 1784, in _call_impl\n",
      "    return forward_call(*args, **kwargs)\n",
      "  File \"/venv/vah/lib/python3.10/site-packages/transformers/models/roberta/modeling_roberta.py\", line 547, in forward\n",
      "    layer_output = apply_chunking_to_forward(\n",
      "  File \"/venv/vah/lib/python3.10/site-packages/transformers/pytorch_utils.py\", line 251, in apply_chunking_to_forward\n",
      "    return forward_fn(*input_tensors)\n",
      "  File \"/venv/vah/lib/python3.10/site-packages/transformers/models/roberta/modeling_roberta.py\", line 555, in feed_forward_chunk\n",
      "    intermediate_output = self.intermediate(attention_output)\n",
      "  File \"/venv/vah/lib/python3.10/site-packages/torch/nn/modules/module.py\", line 1773, in _wrapped_call_impl\n",
      "    return self._call_impl(*args, **kwargs)\n",
      "  File \"/venv/vah/lib/python3.10/site-packages/torch/nn/modules/module.py\", line 1784, in _call_impl\n",
      "    return forward_call(*args, **kwargs)\n",
      "  File \"/venv/vah/lib/python3.10/site-packages/transformers/models/roberta/modeling_roberta.py\", line 470, in forward\n",
      "    hidden_states = self.dense(hidden_states)\n",
      "  File \"/venv/vah/lib/python3.10/site-packages/torch/nn/modules/module.py\", line 1773, in _wrapped_call_impl\n",
      "    return self._call_impl(*args, **kwargs)\n",
      "  File \"/venv/vah/lib/python3.10/site-packages/torch/nn/modules/module.py\", line 1784, in _call_impl\n",
      "    return forward_call(*args, **kwargs)\n",
      "  File \"/venv/vah/lib/python3.10/site-packages/torch/nn/modules/linear.py\", line 125, in forward\n",
      "    return F.linear(input, self.weight, self.bias)\n",
      "torch.OutOfMemoryError: CUDA out of memory. Tried to allocate 2.00 MiB. GPU 0 has a total capacity of 47.38 GiB of which 192.00 KiB is free. Including non-PyTorch memory, this process has 47.36 GiB memory in use. Of the allocated memory 41.58 GiB is allocated by PyTorch, and 5.34 GiB is reserved by PyTorch but unallocated. If reserved but unallocated memory is large try setting PYTORCH_CUDA_ALLOC_CONF=expandable_segments:True to avoid fragmentation.  See documentation for Memory Management  (https://pytorch.org/docs/stable/notes/cuda.html#environment-variables)\n"
     ]
    }
   ],
   "source": [
    "! python run.py --output_dir saved_models --train_data_file dataset/train_data.jsonl --test_data_file dataset/test_data.jsonl --model_name_or_path microsoft/unixcoder-base --do_train --do_eval --train_batch_size 32 --eval_batch_size 32 --num_train_epochs 20 --code_length 256 --learning_rate 1e-2"
   ]
  }
 ],
 "metadata": {
  "kernelspec": {
   "display_name": "vah",
   "language": "python",
   "name": "python3"
  },
  "language_info": {
   "codemirror_mode": {
    "name": "ipython",
    "version": 3
   },
   "file_extension": ".py",
   "mimetype": "text/x-python",
   "name": "python",
   "nbconvert_exporter": "python",
   "pygments_lexer": "ipython3",
   "version": "3.10.18"
  }
 },
 "nbformat": 4,
 "nbformat_minor": 5
}
