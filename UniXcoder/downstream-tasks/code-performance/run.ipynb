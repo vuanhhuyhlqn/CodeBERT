{
 "cells": [
  {
   "cell_type": "code",
   "execution_count": 1,
   "id": "c965d51b",
   "metadata": {},
   "outputs": [
    {
     "name": "stdout",
     "output_type": "stream",
     "text": [
      "^C\n"
     ]
    },
    {
     "name": "stderr",
     "output_type": "stream",
     "text": [
      "08/24/2025 22:24:35 - INFO - __main__ -   device: cuda, n_gpu: 1\n",
      "08/24/2025 22:24:38 - INFO - __main__ -   Training/evaluation parameters Namespace(train_data_file='dataset/train_data.jsonl', test_data_file='dataset/test_data.jsonl', output_dir='saved_models', model_name_or_path='microsoft/unixcoder-base', do_train=True, do_eval=False, do_test=False, train_batch_size=32, eval_batch_size=4, learning_rate=5e-05, max_grad_norm=1.0, num_train_epochs=2, code_length=256, seed=42, n_gpu=1, device=device(type='cuda'))\n",
      "08/24/2025 22:24:39 - INFO - __main__ -   ** Example **\n",
      "08/24/2025 22:24:39 - INFO - __main__ -   idx: 0\n",
      "08/24/2025 22:24:39 - INFO - __main__ -   code_tokens: ['<s>', '<encoder-only>', '</s>', 'def', '_select', '_', 'next', '_', 'node', '_(', '_current', '_', 'node', '_,', '_destination', '_', 'node', '_,', '_un', 'visited', '_', 'nodes', '_,', '_distance', '_', 'matrix', '_)', '_:', '_next', '_', 'node', '_=', '_None', '_max', '_', 'score', '_=', '_float', '_(', \"_'-\", 'inf', \"'\", '_)', '_for', '_node', '_in', '_un', 'visited', '_', 'nodes', '_:', '_distance', '_', 'to', '_', 'next', '_=', '_distance', '_', 'matrix', '_[', '_current', '_', 'node', '_]', '_[', '_node', '_]', '_avg', '_', 'distance', '_', 'to', '_', 'un', 'visited', '_=', '_sum', '_(', '_distance', '_', 'matrix', '_[', '_node', '_]', '_[', '_n', '_]', '_for', '_n', '_in', '_un', 'visited', '_', 'nodes', '_)', '_/', '_(', '_len', '_(', '_un', 'visited', '_', 'nodes', '_)', '_if', '_un', 'visited', '_', 'nodes', '_else', '_1', '_)', '_#', '_Int', 'rod', 'ucing', '_a', '_penalty', '_for', '_selecting', '_dist', 'ant', '_nodes', '_penalty', '_=', '_(', '_distance', '_', 'to', '_', 'next', '_/', '_avg', '_', 'distance', '_', 'to', '_', 'un', 'visited', '_)', '_if', '_avg', '_', 'distance', '_', 'to', '_', 'un', 'visited', '_>', '_0', '_else', '_1', '_score', '_=', '_(', '_avg', '_', 'distance', '_', 'to', '_', 'un', 'visited', '_-', '_distance', '_', 'to', '_', 'next', '_)', '_-', '_penalty', '_#', '_Adjust', '_score', '_based', '_on', '_penalty', '_if', '_score', '_>', '_max', '_', 'score', '_:', '_max', '_', 'score', '_=', '_score', '_next', '_', 'node', '_=', '_node', '_return', '_next', '_', 'node', '</s>']\n",
      "08/24/2025 22:24:39 - INFO - __main__ -   code_ids: 0 6 2 729 4354 181 1313 181 1100 400 1434 181 1100 2019 5943 181 1100 2019 851 20403 181 4522 2019 6894 181 5241 743 545 1789 181 1100 385 1938 1621 181 7461 385 1842 400 4220 7479 125 743 563 1320 488 851 20403 181 4522 545 6894 181 589 181 1313 385 6894 181 5241 626 1434 181 1100 2406 626 1320 2406 15822 181 7647 181 589 181 410 20403 385 3863 400 6894 181 5241 626 1320 2406 626 416 2406 563 416 488 851 20403 181 4522 743 1017 400 1015 400 851 20403 181 4522 743 462 851 20403 181 4522 669 524 743 830 3596 22236 25212 434 42984 563 36895 6180 950 4435 42984 385 400 6894 181 589 181 1313 1017 15822 181 7647 181 589 181 410 20403 743 462 15822 181 7647 181 589 181 410 20403 711 461 669 524 8917 385 400 15822 181 7647 181 589 181 410 20403 581 6894 181 589 181 1313 743 581 42984 830 16203 8917 4832 854 42984 462 8917 711 1621 181 7461 545 1621 181 7461 385 8917 1789 181 1100 385 1320 483 1789 181 1100 2 1 1 1 1 1 1 1 1 1 1 1 1 1 1 1 1 1 1 1 1 1 1 1 1 1 1 1 1 1 1 1 1 1 1 1 1 1 1 1 1 1 1 1 1 1 1 1 1 1 1 1 1 1\n",
      "08/24/2025 22:24:39 - INFO - __main__ -   code_perf: 6.3335850070689865\n",
      "08/24/2025 22:24:39 - INFO - __main__ -   ** Example **\n",
      "08/24/2025 22:24:39 - INFO - __main__ -   idx: 1\n",
      "08/24/2025 22:24:39 - INFO - __main__ -   code_tokens: ['<s>', '<encoder-only>', '</s>', 'def', '_select', '_', 'next', '_', 'node', '_(', '_current', '_', 'node', '_,', '_destination', '_', 'node', '_,', '_un', 'visited', '_', 'nodes', '_,', '_distance', '_', 'matrix', '_)', '_:', '_next', '_', 'node', '_=', '_None', '_max', '_', 'score', '_=', '_float', '_(', \"_'-\", 'inf', \"'\", '_)', '_for', '_node', '_in', '_un', 'visited', '_', 'nodes', '_:', '_distance', '_', 'to', '_', 'next', '_=', '_distance', '_', 'matrix', '_[', '_current', '_', 'node', '_]', '_[', '_node', '_]', '_weighted', '_', 'average', '_', 'distance', '_=', '_sum', '_(', '_distance', '_', 'matrix', '_[', '_node', '_]', '_[', '_n', '_]', '_for', '_n', '_in', '_un', 'visited', '_', 'nodes', '_)', '_/', '_max', '_(', '_len', '_(', '_un', 'visited', '_', 'nodes', '_)', '_,', '_1', '_)', '_weight', '_', 'factor', '_=', '_1', '_/', '_(', '_distance', '_', 'to', '_', 'next', '_+', '_1', '_)', '_#', '_Avoid', '_division', '_by', '_zero', '_score', '_=', '_(', '_weight', '_', 'factor', '_*', '_weighted', '_', 'average', '_', 'distance', '_)', '_-', '_distance', '_', 'to', '_', 'next', '_#', '_B', 'alance', '_immediate', '_and', '_average', '_distances', '_if', '_score', '_>', '_max', '_', 'score', '_:', '_max', '_', 'score', '_=', '_score', '_next', '_', 'node', '_=', '_node', '_return', '_next', '_', 'node', '</s>']\n",
      "08/24/2025 22:24:39 - INFO - __main__ -   code_ids: 0 6 2 729 4354 181 1313 181 1100 400 1434 181 1100 2019 5943 181 1100 2019 851 20403 181 4522 2019 6894 181 5241 743 545 1789 181 1100 385 1938 1621 181 7461 385 1842 400 4220 7479 125 743 563 1320 488 851 20403 181 4522 545 6894 181 589 181 1313 385 6894 181 5241 626 1434 181 1100 2406 626 1320 2406 30773 181 17465 181 7647 385 3863 400 6894 181 5241 626 1320 2406 626 416 2406 563 416 488 851 20403 181 4522 743 1017 1621 400 1015 400 851 20403 181 4522 743 2019 524 743 8423 181 6473 385 524 1017 400 6894 181 589 181 1313 513 524 743 830 21174 23610 1243 3958 8917 385 400 8423 181 6473 426 30773 181 17465 181 7647 743 581 6894 181 589 181 1313 830 719 6858 8184 706 13299 28556 462 8917 711 1621 181 7461 545 1621 181 7461 385 8917 1789 181 1100 385 1320 483 1789 181 1100 2 1 1 1 1 1 1 1 1 1 1 1 1 1 1 1 1 1 1 1 1 1 1 1 1 1 1 1 1 1 1 1 1 1 1 1 1 1 1 1 1 1 1 1 1 1 1 1 1 1 1 1 1 1 1 1 1 1 1 1 1 1 1 1 1 1 1 1 1 1 1 1 1 1 1 1 1 1 1 1 1 1 1\n",
      "08/24/2025 22:24:39 - INFO - __main__ -   code_perf: 6.351656602584806\n",
      "08/24/2025 22:24:39 - INFO - __main__ -   ** Example **\n",
      "08/24/2025 22:24:39 - INFO - __main__ -   idx: 2\n",
      "08/24/2025 22:24:39 - INFO - __main__ -   code_tokens: ['<s>', '<encoder-only>', '</s>', 'def', '_select', '_', 'next', '_', 'node', '_(', '_current', '_', 'node', '_,', '_destination', '_', 'node', '_,', '_un', 'visited', '_', 'nodes', '_,', '_distance', '_', 'matrix', '_)', '_:', '_#', '_{', 'This', '_algorithm', '_intro', 'duces', '_a', '_selection', '_criterion', '_based', '_on', '_both', '_distance', '_and', '_a', '_penalty', '_for', '_cluster', 'ing', '_of', '_un', 'visited', '_nodes', ',', '_en', 'cour', 'aging', '_a', '_more', '_spread', '-', 'out', '_route', '.', '}', '_next', '_', 'node', '_=', '_None', '_max', '_', 'score', '_=', '_float', '_(', \"_'-\", 'inf', \"'\", '_)', '_for', '_node', '_in', '_un', 'visited', '_', 'nodes', '_:', '_distance', '_', 'to', '_', 'next', '_=', '_distance', '_', 'matrix', '_[', '_current', '_', 'node', '_]', '_[', '_node', '_]', '_penalty', '_=', '_sum', '_(', '_distance', '_', 'matrix', '_[', '_node', '_]', '_[', '_n', '_]', '_for', '_n', '_in', '_un', 'visited', '_', 'nodes', '_if', '_n', '_!=', '_node', '_)', '_/', '_max', '_(', '_len', '_(', '_un', 'visited', '_', 'nodes', '_)', '_-', '_1', '_,', '_1', '_)', '_score', '_=', '_(', '_1', '_/', '_(', '_distance', '_', 'to', '_', 'next', '_+', '_1', '_)', '_)', '_*', '_(', '_penalty', '_-', '_distance', '_', 'to', '_', 'next', '_)', '_#', '_Focus', '_on', '_minim', 'izing', '_both', '_immediate', '_and', '_cluster', 'ing', '_distances', '_if', '_score', '_>', '_max', '_', 'score', '_:', '_max', '_', 'score', '_=', '_score', '_next', '_', 'node', '_=', '_node', '_return', '_next', '_', 'node', '</s>']\n",
      "08/24/2025 22:24:39 - INFO - __main__ -   code_ids: 0 6 2 729 4354 181 1313 181 1100 400 1434 181 1100 2019 5943 181 1100 2019 851 20403 181 4522 2019 6894 181 5241 743 545 830 399 3004 7852 18236 14385 434 6244 34508 4832 854 5072 6894 706 434 42984 563 6350 419 595 851 20403 4435 130 1099 8312 9611 434 2726 26993 131 657 7059 132 211 1789 181 1100 385 1938 1621 181 7461 385 1842 400 4220 7479 125 743 563 1320 488 851 20403 181 4522 545 6894 181 589 181 1313 385 6894 181 5241 626 1434 181 1100 2406 626 1320 2406 42984 385 3863 400 6894 181 5241 626 1320 2406 626 416 2406 563 416 488 851 20403 181 4522 462 416 620 1320 743 1017 1621 400 1015 400 851 20403 181 4522 743 581 524 2019 524 743 8917 385 400 524 1017 400 6894 181 589 181 1313 513 524 743 743 426 400 42984 581 6894 181 589 181 1313 743 830 35134 854 30938 9733 5072 8184 706 6350 419 28556 462 8917 711 1621 181 7461 545 1621 181 7461 385 8917 1789 181 1100 385 1320 483 1789 181 1100 2 1 1 1 1 1 1 1 1 1 1 1 1 1 1 1 1 1 1 1 1 1 1 1 1 1 1 1 1 1 1 1 1 1 1 1 1 1 1 1 1 1 1 1 1 1 1 1 1 1 1 1 1 1 1 1\n",
      "08/24/2025 22:24:39 - INFO - __main__ -   code_perf: 6.357686789692623\n",
      "08/24/2025 22:24:41 - INFO - __main__ -   ***** Running training *****\n",
      "08/24/2025 22:24:41 - INFO - __main__ -     Num examples = 504\n",
      "08/24/2025 22:24:41 - INFO - __main__ -     Num Epochs = 2\n",
      "08/24/2025 22:24:41 - INFO - __main__ -     Instantaneous batch size per GPU = 32\n",
      "08/24/2025 22:24:41 - INFO - __main__ -     Total train batch size  = 32\n",
      "08/24/2025 22:24:41 - INFO - __main__ -     Total optimization steps = 32\n",
      "08/24/2025 22:28:09 - INFO - __main__ -   epoch 0 step 10 loss 1.30818\n",
      "08/24/2025 22:33:41 - INFO - __main__ -   epoch 1 step 10 loss 1.0923\n",
      "\n",
      "  0%|          | 0/5 [00:00<?, ?it/s]\n",
      " 20%|██        | 1/5 [00:01<00:04,  1.22s/it]\n",
      " 80%|████████  | 4/5 [00:01<00:00,  3.77it/s]\n",
      "100%|██████████| 5/5 [00:01<00:00,  3.58it/s]\n"
     ]
    },
    {
     "name": "stdout",
     "output_type": "stream",
     "text": [
      "[*] Average Score: 0.09714285714285714\n"
     ]
    }
   ],
   "source": [
    "! python run.py --output_dir saved_models --train_data_file dataset/train_data.jsonl --test_data_file dataset/test_data.jsonl --model_name_or_path microsoft/unixcoder-base --do_train --do_eval --train_batch_size 32 --eval_batch_size 32 --num_train_epochs 2 --code_length 256"
   ]
  }
 ],
 "metadata": {
  "kernelspec": {
   "display_name": "Python 3",
   "language": "python",
   "name": "python3"
  },
  "language_info": {
   "codemirror_mode": {
    "name": "ipython",
    "version": 3
   },
   "file_extension": ".py",
   "mimetype": "text/x-python",
   "name": "python",
   "nbconvert_exporter": "python",
   "pygments_lexer": "ipython3",
   "version": "3.9.12"
  }
 },
 "nbformat": 4,
 "nbformat_minor": 5
}
